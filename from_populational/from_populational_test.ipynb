{
 "cells": [
  {
   "cell_type": "code",
   "execution_count": null,
   "metadata": {},
   "outputs": [],
   "source": [
    "import pandas as pd\n",
    "from ppandas import PDataFrame"
   ]
  },
  {
   "cell_type": "code",
   "execution_count": 1,
   "metadata": {},
   "outputs": [
    {
     "data": {
      "text/plain": [
       "<Figure size 640x480 with 1 Axes>"
      ]
     },
     "metadata": {},
     "output_type": "display_data"
    },
    {
     "name": "stdout",
     "output_type": "stream",
     "text": [
      "+----------------+-----+\n",
      "| Gender(Female) | 0.5 |\n",
      "+----------------+-----+\n",
      "| Gender(Male)   | 0.5 |\n",
      "+----------------+-----+\n",
      "+--------------+----------+\n",
      "| Age([20,40)) | 0.333333 |\n",
      "+--------------+----------+\n",
      "| Age([40,60)) | 0.333333 |\n",
      "+--------------+----------+\n",
      "| Age([60,80)) | 0.333333 |\n",
      "+--------------+----------+\n",
      "+----------------------+----------------+--------------+----------------+--------------+----------------+--------------+\n",
      "| Age                  | Age([20,40))   | Age([20,40)) | Age([40,60))   | Age([40,60)) | Age([60,80))   | Age([60,80)) |\n",
      "+----------------------+----------------+--------------+----------------+--------------+----------------+--------------+\n",
      "| Gender               | Gender(Female) | Gender(Male) | Gender(Female) | Gender(Male) | Gender(Female) | Gender(Male) |\n",
      "+----------------------+----------------+--------------+----------------+--------------+----------------+--------------+\n",
      "| Gun Control(Against) | 0.5            | 0.7          | 0.8            | 0.6          | 0.1            | 0.75         |\n",
      "+----------------------+----------------+--------------+----------------+--------------+----------------+--------------+\n",
      "| Gun Control(For)     | 0.5            | 0.3          | 0.2            | 0.4          | 0.9            | 0.25         |\n",
      "+----------------------+----------------+--------------+----------------+--------------+----------------+--------------+\n"
     ]
    }
   ],
   "source": [
    "# From original testing file\n",
    "\n",
    "df1 = pd.read_csv(\"populational1.csv\")\n",
    "\n",
    "pd1 = PDataFrame.from_populational_data([\"Gender\",\"Age\"],df1,600)\n",
    "pd1.visualise(show_tables=True)"
   ]
  },
  {
   "cell_type": "code",
   "execution_count": 4,
   "metadata": {},
   "outputs": [
    {
     "ename": "ValueError",
     "evalue": "Values array must be of size: 2",
     "output_type": "error",
     "traceback": [
      "\u001b[1;31m---------------------------------------------------------------------------\u001b[0m",
      "\u001b[1;31mValueError\u001b[0m                                Traceback (most recent call last)",
      "\u001b[1;32m<ipython-input-4-1ce4dc99f247>\u001b[0m in \u001b[0;36m<module>\u001b[1;34m\u001b[0m\n\u001b[0;32m      4\u001b[0m \u001b[0mdf1\u001b[0m \u001b[1;33m=\u001b[0m \u001b[0mpd\u001b[0m\u001b[1;33m.\u001b[0m\u001b[0mread_csv\u001b[0m\u001b[1;33m(\u001b[0m\u001b[1;34m\"populational1_bool.csv\"\u001b[0m\u001b[1;33m)\u001b[0m\u001b[1;33m\u001b[0m\u001b[1;33m\u001b[0m\u001b[0m\n\u001b[0;32m      5\u001b[0m \u001b[1;33m\u001b[0m\u001b[0m\n\u001b[1;32m----> 6\u001b[1;33m \u001b[0mpd1\u001b[0m \u001b[1;33m=\u001b[0m \u001b[0mPDataFrame\u001b[0m\u001b[1;33m.\u001b[0m\u001b[0mfrom_populational_data\u001b[0m\u001b[1;33m(\u001b[0m\u001b[1;33m[\u001b[0m\u001b[1;34m\"Gender\"\u001b[0m\u001b[1;33m,\u001b[0m\u001b[1;34m\"Age\"\u001b[0m\u001b[1;33m]\u001b[0m\u001b[1;33m,\u001b[0m\u001b[0mdf1\u001b[0m\u001b[1;33m,\u001b[0m\u001b[1;36m600\u001b[0m\u001b[1;33m)\u001b[0m\u001b[1;33m\u001b[0m\u001b[1;33m\u001b[0m\u001b[0m\n\u001b[0m\u001b[0;32m      7\u001b[0m \u001b[0mpd1\u001b[0m\u001b[1;33m.\u001b[0m\u001b[0mvisualise\u001b[0m\u001b[1;33m(\u001b[0m\u001b[0mshow_tables\u001b[0m\u001b[1;33m=\u001b[0m\u001b[1;32mTrue\u001b[0m\u001b[1;33m)\u001b[0m\u001b[1;33m\u001b[0m\u001b[1;33m\u001b[0m\u001b[0m\n",
      "\u001b[1;32m~\\workspace\\UofT_Code\\MIE8888\\ppandas\\p_frame.py\u001b[0m in \u001b[0;36mfrom_populational_data\u001b[1;34m(cls, independent_vars, data, num_of_records)\u001b[0m\n\u001b[0;32m     67\u001b[0m                              independent_vars])\n\u001b[0;32m     68\u001b[0m         bayes_net = BayesNetHelper.bayes_net_from_populational_data(\n\u001b[1;32m---> 69\u001b[1;33m             data, independent_vars, dependent_vars)\n\u001b[0m\u001b[0;32m     70\u001b[0m         return PDataFrame(independent_vars, bayes_net, num_of_records=\n\u001b[0;32m     71\u001b[0m                           \u001b[0mnum_of_records\u001b[0m\u001b[1;33m,\u001b[0m \u001b[0mdependent_vars\u001b[0m\u001b[1;33m=\u001b[0m\u001b[0mdependent_vars\u001b[0m\u001b[1;33m,\u001b[0m\u001b[1;33m\u001b[0m\u001b[1;33m\u001b[0m\u001b[0m\n",
      "\u001b[1;32m~\\workspace\\UofT_Code\\MIE8888\\ppandas\\helper\\bayes_net_helper.py\u001b[0m in \u001b[0;36mbayes_net_from_populational_data\u001b[1;34m(data, independent_vars, dependent_vars)\u001b[0m\n\u001b[0;32m     79\u001b[0m             data, independent_vars | dependent_vars)\n\u001b[0;32m     80\u001b[0m         \u001b[1;32mfor\u001b[0m \u001b[0mnode\u001b[0m \u001b[1;32min\u001b[0m \u001b[0mindependent_vars\u001b[0m \u001b[1;33m|\u001b[0m \u001b[0mdependent_vars\u001b[0m\u001b[1;33m:\u001b[0m\u001b[1;33m\u001b[0m\u001b[1;33m\u001b[0m\u001b[0m\n\u001b[1;32m---> 81\u001b[1;33m             \u001b[0mcpd\u001b[0m \u001b[1;33m=\u001b[0m \u001b[0mBayesNetHelper\u001b[0m\u001b[1;33m.\u001b[0m\u001b[0mcompute_cpd\u001b[0m\u001b[1;33m(\u001b[0m\u001b[0mmodel\u001b[0m\u001b[1;33m,\u001b[0m \u001b[0mnode\u001b[0m\u001b[1;33m,\u001b[0m \u001b[0mdata\u001b[0m\u001b[1;33m,\u001b[0m \u001b[0mstate_names\u001b[0m\u001b[1;33m)\u001b[0m\u001b[1;33m\u001b[0m\u001b[1;33m\u001b[0m\u001b[0m\n\u001b[0m\u001b[0;32m     82\u001b[0m             \u001b[0mcpd_list\u001b[0m\u001b[1;33m.\u001b[0m\u001b[0mappend\u001b[0m\u001b[1;33m(\u001b[0m\u001b[0mcpd\u001b[0m\u001b[1;33m)\u001b[0m\u001b[1;33m\u001b[0m\u001b[1;33m\u001b[0m\u001b[0m\n\u001b[0;32m     83\u001b[0m         \u001b[0mmodel\u001b[0m\u001b[1;33m.\u001b[0m\u001b[0madd_cpds\u001b[0m\u001b[1;33m(\u001b[0m\u001b[1;33m*\u001b[0m\u001b[0mcpd_list\u001b[0m\u001b[1;33m)\u001b[0m\u001b[1;33m\u001b[0m\u001b[1;33m\u001b[0m\u001b[0m\n",
      "\u001b[1;32m~\\workspace\\UofT_Code\\MIE8888\\ppandas\\helper\\bayes_net_helper.py\u001b[0m in \u001b[0;36mcompute_cpd\u001b[1;34m(model, node, data, state_names)\u001b[0m\n\u001b[0;32m    126\u001b[0m             \u001b[0mevidence\u001b[0m\u001b[1;33m=\u001b[0m\u001b[0mparents\u001b[0m\u001b[1;33m,\u001b[0m\u001b[1;33m\u001b[0m\u001b[1;33m\u001b[0m\u001b[0m\n\u001b[0;32m    127\u001b[0m             \u001b[0mevidence_card\u001b[0m\u001b[1;33m=\u001b[0m\u001b[0mparents_cardinalities\u001b[0m\u001b[1;33m,\u001b[0m\u001b[1;33m\u001b[0m\u001b[1;33m\u001b[0m\u001b[0m\n\u001b[1;32m--> 128\u001b[1;33m             \u001b[0mstate_names\u001b[0m\u001b[1;33m=\u001b[0m\u001b[0mstate_name\u001b[0m\u001b[1;33m,\u001b[0m\u001b[1;33m\u001b[0m\u001b[1;33m\u001b[0m\u001b[0m\n\u001b[0m\u001b[0;32m    129\u001b[0m         )\n\u001b[0;32m    130\u001b[0m         \u001b[0mcpd\u001b[0m\u001b[1;33m.\u001b[0m\u001b[0mnormalize\u001b[0m\u001b[1;33m(\u001b[0m\u001b[1;33m)\u001b[0m\u001b[1;33m\u001b[0m\u001b[1;33m\u001b[0m\u001b[0m\n",
      "\u001b[1;32m~\\Anaconda3\\lib\\site-packages\\pgmpy\\factors\\discrete\\CPD.py\u001b[0m in \u001b[0;36m__init__\u001b[1;34m(self, variable, variable_card, values, evidence, evidence_card, state_names)\u001b[0m\n\u001b[0;32m    138\u001b[0m \u001b[1;33m\u001b[0m\u001b[0m\n\u001b[0;32m    139\u001b[0m         super(TabularCPD, self).__init__(\n\u001b[1;32m--> 140\u001b[1;33m             \u001b[0mvariables\u001b[0m\u001b[1;33m,\u001b[0m \u001b[0mcardinality\u001b[0m\u001b[1;33m,\u001b[0m \u001b[0mvalues\u001b[0m\u001b[1;33m.\u001b[0m\u001b[0mflatten\u001b[0m\u001b[1;33m(\u001b[0m\u001b[1;34m\"C\"\u001b[0m\u001b[1;33m)\u001b[0m\u001b[1;33m,\u001b[0m \u001b[0mstate_names\u001b[0m\u001b[1;33m=\u001b[0m\u001b[0mstate_names\u001b[0m\u001b[1;33m\u001b[0m\u001b[1;33m\u001b[0m\u001b[0m\n\u001b[0m\u001b[0;32m    141\u001b[0m         )\n\u001b[0;32m    142\u001b[0m \u001b[1;33m\u001b[0m\u001b[0m\n",
      "\u001b[1;32m~\\Anaconda3\\lib\\site-packages\\pgmpy\\factors\\discrete\\DiscreteFactor.py\u001b[0m in \u001b[0;36m__init__\u001b[1;34m(self, variables, cardinality, values, state_names)\u001b[0m\n\u001b[0;32m    105\u001b[0m             raise ValueError(\n\u001b[0;32m    106\u001b[0m                 \"Values array must be of size: {size}\".format(\n\u001b[1;32m--> 107\u001b[1;33m                     \u001b[0msize\u001b[0m\u001b[1;33m=\u001b[0m\u001b[0mnp\u001b[0m\u001b[1;33m.\u001b[0m\u001b[0mproduct\u001b[0m\u001b[1;33m(\u001b[0m\u001b[0mcardinality\u001b[0m\u001b[1;33m)\u001b[0m\u001b[1;33m\u001b[0m\u001b[1;33m\u001b[0m\u001b[0m\n\u001b[0m\u001b[0;32m    108\u001b[0m                 )\n\u001b[0;32m    109\u001b[0m             )\n",
      "\u001b[1;31mValueError\u001b[0m: Values array must be of size: 2"
     ]
    }
   ],
   "source": [
    "# Changed \"Gun Control\" field to boolean\n",
    "\n",
    "df1 = pd.read_csv(\"populational1_bool.csv\")\n",
    "\n",
    "pd1 = PDataFrame.from_populational_data([\"Gender\",\"Age\"],df1,600)\n",
    "pd1.visualise(show_tables=True)"
   ]
  },
  {
   "cell_type": "code",
   "execution_count": 6,
   "metadata": {},
   "outputs": [
    {
     "ename": "ValueError",
     "evalue": "Values array must be of size: 2",
     "output_type": "error",
     "traceback": [
      "\u001b[1;31m---------------------------------------------------------------------------\u001b[0m",
      "\u001b[1;31mValueError\u001b[0m                                Traceback (most recent call last)",
      "\u001b[1;32m<ipython-input-6-1ef162fa4310>\u001b[0m in \u001b[0;36m<module>\u001b[1;34m\u001b[0m\n\u001b[0;32m      4\u001b[0m \u001b[0mdf1\u001b[0m \u001b[1;33m=\u001b[0m \u001b[0mpd\u001b[0m\u001b[1;33m.\u001b[0m\u001b[0mread_csv\u001b[0m\u001b[1;33m(\u001b[0m\u001b[1;34m\"populational1_int.csv\"\u001b[0m\u001b[1;33m)\u001b[0m\u001b[1;33m\u001b[0m\u001b[1;33m\u001b[0m\u001b[0m\n\u001b[0;32m      5\u001b[0m \u001b[1;33m\u001b[0m\u001b[0m\n\u001b[1;32m----> 6\u001b[1;33m \u001b[0mpd1\u001b[0m \u001b[1;33m=\u001b[0m \u001b[0mPDataFrame\u001b[0m\u001b[1;33m.\u001b[0m\u001b[0mfrom_populational_data\u001b[0m\u001b[1;33m(\u001b[0m\u001b[1;33m[\u001b[0m\u001b[1;34m\"Gender\"\u001b[0m\u001b[1;33m,\u001b[0m\u001b[1;34m\"Age\"\u001b[0m\u001b[1;33m]\u001b[0m\u001b[1;33m,\u001b[0m\u001b[0mdf1\u001b[0m\u001b[1;33m,\u001b[0m\u001b[1;36m600\u001b[0m\u001b[1;33m)\u001b[0m\u001b[1;33m\u001b[0m\u001b[1;33m\u001b[0m\u001b[0m\n\u001b[0m\u001b[0;32m      7\u001b[0m \u001b[0mpd1\u001b[0m\u001b[1;33m.\u001b[0m\u001b[0mvisualise\u001b[0m\u001b[1;33m(\u001b[0m\u001b[0mshow_tables\u001b[0m\u001b[1;33m=\u001b[0m\u001b[1;32mTrue\u001b[0m\u001b[1;33m)\u001b[0m\u001b[1;33m\u001b[0m\u001b[1;33m\u001b[0m\u001b[0m\n",
      "\u001b[1;32m~\\workspace\\UofT_Code\\MIE8888\\ppandas\\p_frame.py\u001b[0m in \u001b[0;36mfrom_populational_data\u001b[1;34m(cls, independent_vars, data, num_of_records)\u001b[0m\n\u001b[0;32m     67\u001b[0m                              independent_vars])\n\u001b[0;32m     68\u001b[0m         bayes_net = BayesNetHelper.bayes_net_from_populational_data(\n\u001b[1;32m---> 69\u001b[1;33m             data, independent_vars, dependent_vars)\n\u001b[0m\u001b[0;32m     70\u001b[0m         return PDataFrame(independent_vars, bayes_net, num_of_records=\n\u001b[0;32m     71\u001b[0m                           \u001b[0mnum_of_records\u001b[0m\u001b[1;33m,\u001b[0m \u001b[0mdependent_vars\u001b[0m\u001b[1;33m=\u001b[0m\u001b[0mdependent_vars\u001b[0m\u001b[1;33m,\u001b[0m\u001b[1;33m\u001b[0m\u001b[1;33m\u001b[0m\u001b[0m\n",
      "\u001b[1;32m~\\workspace\\UofT_Code\\MIE8888\\ppandas\\helper\\bayes_net_helper.py\u001b[0m in \u001b[0;36mbayes_net_from_populational_data\u001b[1;34m(data, independent_vars, dependent_vars)\u001b[0m\n\u001b[0;32m     79\u001b[0m             data, independent_vars | dependent_vars)\n\u001b[0;32m     80\u001b[0m         \u001b[1;32mfor\u001b[0m \u001b[0mnode\u001b[0m \u001b[1;32min\u001b[0m \u001b[0mindependent_vars\u001b[0m \u001b[1;33m|\u001b[0m \u001b[0mdependent_vars\u001b[0m\u001b[1;33m:\u001b[0m\u001b[1;33m\u001b[0m\u001b[1;33m\u001b[0m\u001b[0m\n\u001b[1;32m---> 81\u001b[1;33m             \u001b[0mcpd\u001b[0m \u001b[1;33m=\u001b[0m \u001b[0mBayesNetHelper\u001b[0m\u001b[1;33m.\u001b[0m\u001b[0mcompute_cpd\u001b[0m\u001b[1;33m(\u001b[0m\u001b[0mmodel\u001b[0m\u001b[1;33m,\u001b[0m \u001b[0mnode\u001b[0m\u001b[1;33m,\u001b[0m \u001b[0mdata\u001b[0m\u001b[1;33m,\u001b[0m \u001b[0mstate_names\u001b[0m\u001b[1;33m)\u001b[0m\u001b[1;33m\u001b[0m\u001b[1;33m\u001b[0m\u001b[0m\n\u001b[0m\u001b[0;32m     82\u001b[0m             \u001b[0mcpd_list\u001b[0m\u001b[1;33m.\u001b[0m\u001b[0mappend\u001b[0m\u001b[1;33m(\u001b[0m\u001b[0mcpd\u001b[0m\u001b[1;33m)\u001b[0m\u001b[1;33m\u001b[0m\u001b[1;33m\u001b[0m\u001b[0m\n\u001b[0;32m     83\u001b[0m         \u001b[0mmodel\u001b[0m\u001b[1;33m.\u001b[0m\u001b[0madd_cpds\u001b[0m\u001b[1;33m(\u001b[0m\u001b[1;33m*\u001b[0m\u001b[0mcpd_list\u001b[0m\u001b[1;33m)\u001b[0m\u001b[1;33m\u001b[0m\u001b[1;33m\u001b[0m\u001b[0m\n",
      "\u001b[1;32m~\\workspace\\UofT_Code\\MIE8888\\ppandas\\helper\\bayes_net_helper.py\u001b[0m in \u001b[0;36mcompute_cpd\u001b[1;34m(model, node, data, state_names)\u001b[0m\n\u001b[0;32m    126\u001b[0m             \u001b[0mevidence\u001b[0m\u001b[1;33m=\u001b[0m\u001b[0mparents\u001b[0m\u001b[1;33m,\u001b[0m\u001b[1;33m\u001b[0m\u001b[1;33m\u001b[0m\u001b[0m\n\u001b[0;32m    127\u001b[0m             \u001b[0mevidence_card\u001b[0m\u001b[1;33m=\u001b[0m\u001b[0mparents_cardinalities\u001b[0m\u001b[1;33m,\u001b[0m\u001b[1;33m\u001b[0m\u001b[1;33m\u001b[0m\u001b[0m\n\u001b[1;32m--> 128\u001b[1;33m             \u001b[0mstate_names\u001b[0m\u001b[1;33m=\u001b[0m\u001b[0mstate_name\u001b[0m\u001b[1;33m,\u001b[0m\u001b[1;33m\u001b[0m\u001b[1;33m\u001b[0m\u001b[0m\n\u001b[0m\u001b[0;32m    129\u001b[0m         )\n\u001b[0;32m    130\u001b[0m         \u001b[0mcpd\u001b[0m\u001b[1;33m.\u001b[0m\u001b[0mnormalize\u001b[0m\u001b[1;33m(\u001b[0m\u001b[1;33m)\u001b[0m\u001b[1;33m\u001b[0m\u001b[1;33m\u001b[0m\u001b[0m\n",
      "\u001b[1;32m~\\Anaconda3\\lib\\site-packages\\pgmpy\\factors\\discrete\\CPD.py\u001b[0m in \u001b[0;36m__init__\u001b[1;34m(self, variable, variable_card, values, evidence, evidence_card, state_names)\u001b[0m\n\u001b[0;32m    138\u001b[0m \u001b[1;33m\u001b[0m\u001b[0m\n\u001b[0;32m    139\u001b[0m         super(TabularCPD, self).__init__(\n\u001b[1;32m--> 140\u001b[1;33m             \u001b[0mvariables\u001b[0m\u001b[1;33m,\u001b[0m \u001b[0mcardinality\u001b[0m\u001b[1;33m,\u001b[0m \u001b[0mvalues\u001b[0m\u001b[1;33m.\u001b[0m\u001b[0mflatten\u001b[0m\u001b[1;33m(\u001b[0m\u001b[1;34m\"C\"\u001b[0m\u001b[1;33m)\u001b[0m\u001b[1;33m,\u001b[0m \u001b[0mstate_names\u001b[0m\u001b[1;33m=\u001b[0m\u001b[0mstate_names\u001b[0m\u001b[1;33m\u001b[0m\u001b[1;33m\u001b[0m\u001b[0m\n\u001b[0m\u001b[0;32m    141\u001b[0m         )\n\u001b[0;32m    142\u001b[0m \u001b[1;33m\u001b[0m\u001b[0m\n",
      "\u001b[1;32m~\\Anaconda3\\lib\\site-packages\\pgmpy\\factors\\discrete\\DiscreteFactor.py\u001b[0m in \u001b[0;36m__init__\u001b[1;34m(self, variables, cardinality, values, state_names)\u001b[0m\n\u001b[0;32m    105\u001b[0m             raise ValueError(\n\u001b[0;32m    106\u001b[0m                 \"Values array must be of size: {size}\".format(\n\u001b[1;32m--> 107\u001b[1;33m                     \u001b[0msize\u001b[0m\u001b[1;33m=\u001b[0m\u001b[0mnp\u001b[0m\u001b[1;33m.\u001b[0m\u001b[0mproduct\u001b[0m\u001b[1;33m(\u001b[0m\u001b[0mcardinality\u001b[0m\u001b[1;33m)\u001b[0m\u001b[1;33m\u001b[0m\u001b[1;33m\u001b[0m\u001b[0m\n\u001b[0m\u001b[0;32m    108\u001b[0m                 )\n\u001b[0;32m    109\u001b[0m             )\n",
      "\u001b[1;31mValueError\u001b[0m: Values array must be of size: 2"
     ]
    }
   ],
   "source": [
    "# Changed \"Gun Control\" field to int\n",
    "\n",
    "df1 = pd.read_csv(\"populational1_int.csv\")\n",
    "\n",
    "pd1 = PDataFrame.from_populational_data([\"Gender\",\"Age\"],df1,600)\n",
    "pd1.visualise(show_tables=True)"
   ]
  },
  {
   "cell_type": "code",
   "execution_count": null,
   "metadata": {},
   "outputs": [],
   "source": []
  }
 ],
 "metadata": {
  "kernelspec": {
   "display_name": "Python 3",
   "language": "python",
   "name": "python3"
  },
  "language_info": {
   "codemirror_mode": {
    "name": "ipython",
    "version": 3
   },
   "file_extension": ".py",
   "mimetype": "text/x-python",
   "name": "python",
   "nbconvert_exporter": "python",
   "pygments_lexer": "ipython3",
   "version": "3.7.3"
  }
 },
 "nbformat": 4,
 "nbformat_minor": 2
}
